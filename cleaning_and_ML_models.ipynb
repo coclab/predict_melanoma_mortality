{
 "cells": [
  {
   "cell_type": "markdown",
   "id": "fcd9f22f",
   "metadata": {},
   "source": [
    "# Imports and settings"
   ]
  },
  {
   "cell_type": "markdown",
   "id": "efbcc361",
   "metadata": {},
   "source": [
    "## Import libraries"
   ]
  },
  {
   "cell_type": "code",
   "execution_count": null,
   "id": "2aa7e918",
   "metadata": {},
   "outputs": [],
   "source": [
    "import pandas as pd\n",
    "import numpy as np\n",
    "\n",
    "import seaborn as sn\n",
    "import matplotlib.pyplot as plt\n",
    "import plotly.express as px\n"
   ]
  },
  {
   "cell_type": "code",
   "execution_count": null,
   "id": "222d29f1",
   "metadata": {},
   "outputs": [],
   "source": [
    "import sys\n",
    "sys.version"
   ]
  },
  {
   "cell_type": "code",
   "execution_count": null,
   "id": "7b87b03a",
   "metadata": {},
   "outputs": [],
   "source": [
    "import sklearn\n",
    "sklearn.__version__"
   ]
  },
  {
   "cell_type": "markdown",
   "id": "77774b31",
   "metadata": {},
   "source": [
    "## Display settings"
   ]
  },
  {
   "cell_type": "code",
   "execution_count": null,
   "id": "73e306f4",
   "metadata": {},
   "outputs": [],
   "source": [
    "pd.options.display.max_columns = 999\n",
    "pd.options.display.max_rows = 999"
   ]
  },
  {
   "cell_type": "markdown",
   "id": "9ce17138",
   "metadata": {},
   "source": [
    "## Import data"
   ]
  },
  {
   "cell_type": "code",
   "execution_count": null,
   "id": "17a4fa02",
   "metadata": {},
   "outputs": [],
   "source": [
    "mela = pd.read_excel('Melanoma1517_aggiornato_12042022_sub.xlsx') "
   ]
  },
  {
   "cell_type": "code",
   "execution_count": null,
   "id": "fa92e131",
   "metadata": {
    "scrolled": true
   },
   "outputs": [],
   "source": [
    "mela"
   ]
  },
  {
   "cell_type": "code",
   "execution_count": null,
   "id": "f8e0d65a",
   "metadata": {},
   "outputs": [],
   "source": [
    "mela.shape"
   ]
  },
  {
   "cell_type": "markdown",
   "id": "eaf5658e",
   "metadata": {},
   "source": [
    "# Data preprocessing"
   ]
  },
  {
   "cell_type": "markdown",
   "id": "444765e3",
   "metadata": {},
   "source": [
    "## Inspect data"
   ]
  },
  {
   "cell_type": "code",
   "execution_count": null,
   "id": "6ae98a66",
   "metadata": {},
   "outputs": [],
   "source": [
    "for c in mela.columns:\n",
    "    print('\\n-----{}-----'.format(c))\n",
    "    print(mela[c].value_counts())\n",
    "    print('Missin values ', np.sum(mela[c].isna()))"
   ]
  },
  {
   "cell_type": "code",
   "execution_count": null,
   "id": "b2900194",
   "metadata": {},
   "outputs": [],
   "source": [
    "print(np.mean(mela['eta_diagn']))\n",
    "print(np.median(mela['eta_diagn']))\n",
    "print(np.min(mela['eta_diagn']))\n",
    "print(np.max(mela['eta_diagn']))"
   ]
  },
  {
   "cell_type": "code",
   "execution_count": null,
   "id": "07a12dbb",
   "metadata": {},
   "outputs": [],
   "source": [
    "print(np.mean(mela['Sopravvivenza_3_anni']))\n",
    "print(np.median(mela['Sopravvivenza_3_anni']))\n",
    "print(np.min(mela['Sopravvivenza_3_anni']))\n",
    "print(np.max(mela['Sopravvivenza_3_anni']))"
   ]
  },
  {
   "cell_type": "code",
   "execution_count": null,
   "id": "d56cb8e2",
   "metadata": {},
   "outputs": [],
   "source": [
    "print(np.nanmean(mela['mitosi']))\n",
    "print(np.nanmedian(mela['mitosi']))\n",
    "print(np.min(mela['mitosi']))\n",
    "print(np.max(mela['mitosi']))\n",
    "print(np.sum(mela['mitosi'].isna()))"
   ]
  },
  {
   "cell_type": "code",
   "execution_count": null,
   "id": "22a351d2",
   "metadata": {},
   "outputs": [],
   "source": [
    "print(np.nanmean(mela['bls_diametro_massimo_metastasi_m']))\n",
    "print(np.nanmedian(mela['bls_diametro_massimo_metastasi_m']))\n",
    "print(np.min(mela['bls_diametro_massimo_metastasi_m']))\n",
    "print(np.max(mela['bls_diametro_massimo_metastasi_m']))\n",
    "print(np.sum(mela['bls_diametro_massimo_metastasi_m'].isna()))"
   ]
  },
  {
   "cell_type": "markdown",
   "id": "fe4c168b",
   "metadata": {},
   "source": [
    "## Clean data"
   ]
  },
  {
   "cell_type": "code",
   "execution_count": null,
   "id": "92334f89",
   "metadata": {
    "scrolled": true
   },
   "outputs": [],
   "source": [
    "# simplify stage T classes and replace missing with 'pT0/pTX/DM' class\n",
    "\n",
    "mela['STADIOT_VER8'].replace('pT1a', 'pT1', inplace = True)\n",
    "mela['STADIOT_VER8'].replace('pT1b', 'pT1', inplace = True)\n",
    "mela['STADIOT_VER8'].replace('pT2a', 'pT2', inplace = True)\n",
    "mela['STADIOT_VER8'].replace('pT2b', 'pT2', inplace = True)\n",
    "mela['STADIOT_VER8'].replace('pT3a', 'pT3', inplace = True)\n",
    "mela['STADIOT_VER8'].replace('pT3b', 'pT3', inplace = True)\n",
    "mela['STADIOT_VER8'].replace('pT4a', 'pT4', inplace = True)\n",
    "mela['STADIOT_VER8'].replace('pT4b', 'pT4', inplace = True)\n",
    "\n",
    "#mela['STADIOT_VER8'].replace('pTX', 'pT0/pTX/DM', inplace = True)\n",
    "\n",
    "mela['STADIOT_VER8'].replace(np.nan, 'pT0/DM', inplace = True)\n",
    "mela['STADIOT_VER8'].replace('pT0', 'pT0/DM', inplace = True)\n",
    "\n",
    "mela['STADIOT_VER8'].value_counts()"
   ]
  },
  {
   "cell_type": "code",
   "execution_count": null,
   "id": "f5085818",
   "metadata": {},
   "outputs": [],
   "source": [
    "np.sum(mela['STADIOT_VER8'].isna())"
   ]
  },
  {
   "cell_type": "code",
   "execution_count": null,
   "id": "5ea24196",
   "metadata": {},
   "outputs": [],
   "source": [
    "# replace missing stage N with 'N0/DM' class\n",
    "\n",
    "mela['STADION_VER8'].replace(np.nan, 'NX/DM', inplace = True)\n",
    "#mela['STADION_VER8'].replace('N0', 'N0/DM', inplace = True)\n",
    "mela['STADION_VER8'].value_counts()\n"
   ]
  },
  {
   "cell_type": "code",
   "execution_count": null,
   "id": "0eadea35",
   "metadata": {},
   "outputs": [],
   "source": [
    "np.sum(mela['STADION_VER8'].isna())"
   ]
  },
  {
   "cell_type": "code",
   "execution_count": null,
   "id": "6704b144",
   "metadata": {},
   "outputs": [],
   "source": [
    "# replace missing stage M with 'M0/DM' class\n",
    "\n",
    "mela['STADIOM_VER8'].replace(np.nan, 'M0/DM', inplace = True)\n",
    "mela['STADIOM_VER8'].replace('M0', 'M0/DM', inplace = True)\n",
    "mela['STADIOM_VER8'].value_counts()"
   ]
  },
  {
   "cell_type": "code",
   "execution_count": null,
   "id": "b9883e81",
   "metadata": {},
   "outputs": [],
   "source": [
    "np.sum(mela['STADIOM_VER8'].isna())"
   ]
  },
  {
   "cell_type": "code",
   "execution_count": null,
   "id": "9a64c895",
   "metadata": {},
   "outputs": [],
   "source": [
    "# convert hystology with original class names (please refere to 'Tracciato record registro Melanoma')\n",
    "\n",
    "mela['ISTOGENETICA'].value_counts() # ci sono solo 0,1,2,3,4,5,6,10\n",
    "\n",
    "mela['ISTOGENETICA'].replace(0, 'Malignant melanoma', inplace = True)\n",
    "mela['ISTOGENETICA'].replace(1, 'Superficial spreading melanoma', inplace = True)\n",
    "mela['ISTOGENETICA'].replace(2, 'Nodular melanoma', inplace = True)\n",
    "mela['ISTOGENETICA'].replace(3, 'Lentigo maligna', inplace = True)\n",
    "mela['ISTOGENETICA'].replace(4, 'Acral-lentiginous melanoma', inplace = True)\n",
    "mela['ISTOGENETICA'].replace(5, 'Desmoplastic melanoma', inplace = True)\n",
    "mela['ISTOGENETICA'].replace(6, 'Melanoma arising from blue naevus', inplace = True)\n",
    "mela['ISTOGENETICA'].replace(10, 'Spitzoid melanoma', inplace = True)\n"
   ]
  },
  {
   "cell_type": "code",
   "execution_count": null,
   "id": "5f5f2a97",
   "metadata": {},
   "outputs": [],
   "source": [
    "# replace 'DM' with np.nan to fill with imputation techniques\n",
    "\n",
    "mela['ulcerazione'].replace('DM',np.nan, inplace = True)\n",
    "mela['regressione'].replace('DM',np.nan, inplace = True)\n",
    "mela['tipo_crescita'].replace('DM',np.nan, inplace = True)\n",
    "mela['til'].replace('DM',np.nan, inplace = True)\n",
    "mela['morfologia_2'].replace('DM',np.nan, inplace = True)\n",
    "mela['sede_2'].replace('DM',np.nan, inplace = True)\n",
    "mela['breslow_new'].replace('DM',np.nan, inplace = True)\n"
   ]
  },
  {
   "cell_type": "code",
   "execution_count": null,
   "id": "10cb83be",
   "metadata": {},
   "outputs": [],
   "source": [
    "# replace missing costs with 0 (assuming expense not performed)\n",
    "\n",
    "mela['COSTO_MELA_app_spsY1'].replace(np.nan, 0, inplace = True)\n",
    "mela['COSTO_MELA_app_spsY2'].replace(np.nan, 0, inplace = True)\n",
    "mela['COSTO_SPS_MELA'].replace(np.nan, 0, inplace = True)"
   ]
  },
  {
   "cell_type": "code",
   "execution_count": null,
   "id": "d8d57fb0",
   "metadata": {},
   "outputs": [],
   "source": [
    "# create binary variable for positive SLNB (positive if number >= 1)\n",
    "\n",
    "mela['SLNB Positive'] = 1*(mela.bls_linfo_positivi >= 1) # in this way the variable is already numerically encoded (1 when positive, 0 otherwise)"
   ]
  },
  {
   "cell_type": "code",
   "execution_count": null,
   "id": "fd247dc0",
   "metadata": {},
   "outputs": [],
   "source": [
    "# replace missing diameters with 0 (assuming exam not performed)\n",
    "\n",
    "mela['bls_diametro_massimo_metastasi_m'].replace(np.nan, 0, inplace = True)"
   ]
  },
  {
   "cell_type": "code",
   "execution_count": null,
   "id": "594e803e",
   "metadata": {},
   "outputs": [],
   "source": [
    "# total count positive lymph nodes (SLNB + lymphadenectomy)\n",
    "\n",
    "mela['Positive Lymph Nodes'] = mela['bls_linfo_positivi'].replace(np.nan, 0) + mela['la_linfo_positivi'].replace(np.nan, 0) "
   ]
  },
  {
   "cell_type": "code",
   "execution_count": null,
   "id": "36796a4d",
   "metadata": {},
   "outputs": [],
   "source": [
    "np.sum(mela['la_linfo_positivi'].isna() & mela['bls_linfo_positivi'].isna())"
   ]
  },
  {
   "cell_type": "code",
   "execution_count": null,
   "id": "ec70f41f",
   "metadata": {},
   "outputs": [],
   "source": [
    "np.sum(mela['la_linfo_positivi'].isna())"
   ]
  },
  {
   "cell_type": "code",
   "execution_count": null,
   "id": "9cef90f7",
   "metadata": {},
   "outputs": [],
   "source": [
    "print(np.nanmean(mela['Positive Lymph Nodes']))\n",
    "print(np.nanmedian(mela['Positive Lymph Nodes']))\n",
    "print(np.min(mela['Positive Lymph Nodes']))\n",
    "print(np.max(mela['Positive Lymph Nodes']))\n",
    "print(np.sum(mela['Positive Lymph Nodes'].isna()))"
   ]
  },
  {
   "cell_type": "code",
   "execution_count": null,
   "id": "118264a5",
   "metadata": {},
   "outputs": [],
   "source": [
    "print(np.nanmean(mela.loc[~(mela['la_linfo_positivi'].isna() & mela['bls_linfo_positivi'].isna()),'Positive Lymph Nodes']))\n",
    "print(np.nanmedian(mela.loc[~(mela['la_linfo_positivi'].isna() & mela['bls_linfo_positivi'].isna()),'Positive Lymph Nodes']))\n",
    "print(np.min(mela.loc[~(mela['la_linfo_positivi'].isna() & mela['bls_linfo_positivi'].isna()), 'Positive Lymph Nodes']))\n",
    "print(np.max(mela.loc[~(mela['la_linfo_positivi'].isna() & mela['bls_linfo_positivi'].isna()), 'Positive Lymph Nodes']))\n"
   ]
  },
  {
   "cell_type": "markdown",
   "id": "56863f62",
   "metadata": {},
   "source": [
    "## Ordinal Encoding"
   ]
  },
  {
   "cell_type": "code",
   "execution_count": null,
   "id": "dfb7aac8",
   "metadata": {},
   "outputs": [],
   "source": [
    "from sklearn.preprocessing import OrdinalEncoder\n"
   ]
  },
  {
   "cell_type": "code",
   "execution_count": null,
   "id": "60e52dab",
   "metadata": {},
   "outputs": [],
   "source": [
    "# manually encode bleslow as it still contains nans\n",
    "\n",
    "mela['breslow_new'].replace('DM',np.nan, inplace = True)\n",
    "mela['breslow_new'].replace('G-F041',1.0, inplace = True)\n",
    "mela['breslow_new'].replace('G-F042',2.0, inplace = True)\n",
    "mela['breslow_new'].replace('G-F043',3.0, inplace = True)\n",
    "mela['breslow_new'].replace('G-F044',4.0, inplace = True)\n",
    "\n",
    "print(mela['breslow_new'].value_counts())"
   ]
  },
  {
   "cell_type": "markdown",
   "id": "9ecfe361",
   "metadata": {},
   "source": [
    "## One-Hot Encoding\n"
   ]
  },
  {
   "cell_type": "code",
   "execution_count": null,
   "id": "b467d25a",
   "metadata": {},
   "outputs": [],
   "source": [
    "mela = mela.join(pd.get_dummies(mela['ISTOGENETICA'], prefix='istogenetica', drop_first=True))"
   ]
  },
  {
   "cell_type": "code",
   "execution_count": null,
   "id": "ecc6c835",
   "metadata": {},
   "outputs": [],
   "source": [
    "mela = mela.join(pd.get_dummies(mela['sesso'], prefix='sesso', drop_first=True))"
   ]
  },
  {
   "cell_type": "code",
   "execution_count": null,
   "id": "ba7810e2",
   "metadata": {},
   "outputs": [],
   "source": [
    "mela = mela.join(pd.get_dummies(mela['STADIOT_VER8'], prefix='stadioT', drop_first=False))\n",
    "mela.drop('stadioT_pT0/DM', axis = 1, inplace = True) # manually drop class 'pT0/DM'"
   ]
  },
  {
   "cell_type": "code",
   "execution_count": null,
   "id": "0d55434e",
   "metadata": {},
   "outputs": [],
   "source": [
    "mela = mela.join(pd.get_dummies(mela['STADION_VER8'], prefix='stadioN', drop_first=False))\n",
    "mela.drop('stadioN_NX/DM', axis = 1, inplace = True) # manually drop class 'NX/DM'"
   ]
  },
  {
   "cell_type": "code",
   "execution_count": null,
   "id": "950adacf",
   "metadata": {},
   "outputs": [],
   "source": [
    "mela = mela.join(pd.get_dummies(mela['STADIOM_VER8'], prefix='stadioM', drop_first=False))\n",
    "mela.drop('stadioM_M0/DM', axis = 1, inplace = True) # manually drop class 'M0/DM'"
   ]
  },
  {
   "cell_type": "code",
   "execution_count": null,
   "id": "4e8f35e0",
   "metadata": {},
   "outputs": [],
   "source": [
    "# manually encode ulceration as it still contains nans\n",
    "\n",
    "mela['ulcerazione_Presente'] = mela['ulcerazione'] \n",
    "\n",
    "mela['ulcerazione_Presente'].replace('Presente',1, inplace = True)\n",
    "mela['ulcerazione_Presente'].replace('Assente',0, inplace = True)"
   ]
  },
  {
   "cell_type": "code",
   "execution_count": null,
   "id": "bb14a5dd",
   "metadata": {},
   "outputs": [],
   "source": [
    "# manually encode regression as it still contains nans\n",
    "\n",
    "mela['regressione_Presente'] = mela['regressione'] \n",
    "\n",
    "mela['regressione_Presente'].replace('Presente',1, inplace = True)\n",
    "mela['regressione_Presente'].replace('Assente',0, inplace = True)"
   ]
  },
  {
   "cell_type": "code",
   "execution_count": null,
   "id": "0c62273a",
   "metadata": {},
   "outputs": [],
   "source": [
    "# manually encode growtn type as it still contains nans\n",
    "\n",
    "mela['tipo_crescita_Verticale'] = mela['tipo_crescita'] \n",
    "\n",
    "mela['tipo_crescita_Verticale'].replace('Verticale',1, inplace = True)\n",
    "mela['tipo_crescita_Verticale'].replace('Orizzontale',0, inplace = True)"
   ]
  },
  {
   "cell_type": "code",
   "execution_count": null,
   "id": "a15301bd",
   "metadata": {},
   "outputs": [],
   "source": [
    "# manually encode TILs as it still contains nans\n",
    "\n",
    "mela['til_Presente'] = mela['til'] \n",
    "\n",
    "mela['til_Presente'].replace('Presente',1, inplace = True)\n",
    "mela['til_Presente'].replace('Assente',0, inplace = True)"
   ]
  },
  {
   "cell_type": "markdown",
   "id": "848aada5",
   "metadata": {},
   "source": [
    "## Missing imputation"
   ]
  },
  {
   "cell_type": "code",
   "execution_count": null,
   "id": "a6aa9554",
   "metadata": {},
   "outputs": [],
   "source": [
    "# define dataset of complete variables (exclude survival and costs outcomes, marital status, educational level and lymphnodes data)\n",
    "\n",
    "X = mela.loc[:,['sesso_M', 'eta_diagn',\n",
    "                'stadioT_pT1', 'stadioT_pT2', 'stadioT_pT3', 'stadioT_pT4', 'stadioT_pTX', 'stadioN_N0', 'stadioN_N1a', 'stadioN_N1b', 'stadioN_N1c', 'stadioN_N2a', 'stadioN_N2b', 'stadioN_N2c', 'stadioN_N3', 'stadioN_N3c', 'stadioM_M1', #'stadioM', 'stadioN', 'stadioT', \n",
    "                'istogenetica_Desmoplastic melanoma', 'istogenetica_Lentigo maligna', 'istogenetica_Malignant melanoma', 'istogenetica_Melanoma arising from blue naevus', 'istogenetica_Nodular melanoma', 'istogenetica_Spitzoid melanoma','istogenetica_Superficial spreading melanoma', \n",
    "                ]]\n"
   ]
  },
  {
   "cell_type": "code",
   "execution_count": null,
   "id": "dd0ce6cb",
   "metadata": {},
   "outputs": [],
   "source": [
    "# impute mitotic count with linear regression\n",
    "\n",
    "from sklearn.linear_model import LinearRegression\n",
    "\n",
    "X_train = X.loc[~mela.mitosi.isna()]\n",
    "y_train = mela.loc[~mela.mitosi.isna(), 'mitosi']\n",
    "X_test = X.loc[mela.mitosi.isna()]\n",
    "\n",
    "reg = LinearRegression().fit(X_train, y_train)\n",
    "y_pred = reg.predict(X_test)\n",
    "y_pred = y_pred * (y_pred>=0)\n",
    "\n",
    "mela.loc[mela.mitosi.isna(), 'mitosi'] = y_pred\n",
    "mela.mitosi.isna().any()"
   ]
  },
  {
   "cell_type": "code",
   "execution_count": null,
   "id": "a4dc321b",
   "metadata": {},
   "outputs": [],
   "source": [
    "# impute ulceration with logistic regression\n",
    "\n",
    "from sklearn.linear_model import LogisticRegression\n",
    "\n",
    "X_train = X.loc[~mela.ulcerazione_Presente.isna()]\n",
    "y_train = mela.loc[~mela.ulcerazione_Presente.isna(), 'ulcerazione_Presente']\n",
    "X_test = X.loc[mela.ulcerazione_Presente.isna()]\n",
    "\n",
    "clf = LogisticRegression(random_state=0, max_iter= 500).fit(X_train, y_train)\n",
    "\n",
    "print(clf.score(X_train, y_train)) # better than majority class \n",
    "print(mela.ulcerazione_Presente.value_counts()/(np.sum(mela.ulcerazione_Presente.isna()==False)))\n",
    "\n",
    "y_pred = clf.predict(X_test)\n",
    "\n",
    "mela.loc[mela.ulcerazione_Presente.isna(), 'ulcerazione_Presente'] = y_pred\n",
    "mela.ulcerazione_Presente.isna().any()"
   ]
  },
  {
   "cell_type": "code",
   "execution_count": null,
   "id": "8aa98802",
   "metadata": {},
   "outputs": [],
   "source": [
    "# impute tumor regression with logistic regression\n",
    "\n",
    "X_train = X.loc[~mela.regressione_Presente.isna()]\n",
    "y_train = mela.loc[~mela.regressione_Presente.isna(), 'regressione_Presente']\n",
    "X_test = X.loc[mela.regressione_Presente.isna()]\n",
    "\n",
    "clf = LogisticRegression(random_state=0, max_iter= 500).fit(X_train, y_train)\n",
    "\n",
    "print(clf.score(X_train, y_train)) # better than majority class \n",
    "print(mela.regressione_Presente.value_counts()/(np.sum(mela.regressione_Presente.isna()==False)))\n",
    "\n",
    "y_pred = clf.predict(X_test)\n",
    "\n",
    "mela.loc[mela.regressione_Presente.isna(), 'regressione_Presente'] = y_pred\n",
    "mela.regressione_Presente.isna().any()"
   ]
  },
  {
   "cell_type": "code",
   "execution_count": null,
   "id": "d4cc176f",
   "metadata": {},
   "outputs": [],
   "source": [
    "# impute growth type with logistic regression\n",
    "\n",
    "X_train = X.loc[~mela.tipo_crescita_Verticale.isna()]\n",
    "y_train = mela.loc[~mela.tipo_crescita_Verticale.isna(), 'tipo_crescita_Verticale']\n",
    "X_test = X.loc[mela.tipo_crescita_Verticale.isna()]\n",
    "\n",
    "clf = LogisticRegression(random_state=0, max_iter= 500).fit(X_train, y_train)\n",
    "\n",
    "print(clf.score(X_train, y_train)) # better than majority class\n",
    "print(mela.tipo_crescita_Verticale.value_counts()/(np.sum(mela.tipo_crescita_Verticale.isna()==False)))\n",
    "\n",
    "y_pred = clf.predict(X_test)\n",
    "\n",
    "mela.loc[mela.tipo_crescita_Verticale.isna(), 'tipo_crescita_Verticale'] = y_pred\n",
    "mela.tipo_crescita_Verticale.isna().any()"
   ]
  },
  {
   "cell_type": "code",
   "execution_count": null,
   "id": "2753f247",
   "metadata": {},
   "outputs": [],
   "source": [
    "# impute TILs with logistic regression\n",
    "\n",
    "X_train = X.loc[~mela.til_Presente.isna()]\n",
    "y_train = mela.loc[~mela.til_Presente.isna(), 'til_Presente']\n",
    "X_test = X.loc[mela.til_Presente.isna()]\n",
    "\n",
    "clf = LogisticRegression(random_state=0, max_iter= 500).fit(X_train, y_train)\n",
    "\n",
    "print(clf.score(X_train, y_train)) # better than majority class\n",
    "print(mela.til_Presente.value_counts()/(np.sum(mela.til_Presente.isna()==False)))\n",
    "\n",
    "y_pred = clf.predict(X_test)\n",
    "\n",
    "mela.loc[mela.til_Presente.isna(), 'til_Presente'] = y_pred\n",
    "mela.til_Presente.isna().any()"
   ]
  },
  {
   "cell_type": "code",
   "execution_count": null,
   "id": "b1f778ab",
   "metadata": {},
   "outputs": [],
   "source": [
    "# impute morfology with multiclass logistic regression\n",
    "\n",
    "X_train = X.loc[~mela.morfologia_2.isna()]\n",
    "y_train = mela.loc[~mela.morfologia_2.isna(), 'morfologia_2']\n",
    "X_test = X.loc[mela.morfologia_2.isna()]\n",
    "\n",
    "clf = LogisticRegression(random_state=0, max_iter= 1000).fit(X_train, y_train)\n",
    "print(clf.score(X_train, y_train)) # better than majority class\n",
    "print(mela.morfologia_2.value_counts()/(np.sum(mela.morfologia_2.isna()==False)))\n",
    "y_pred = clf.predict(X_test)\n",
    "\n",
    "mela.loc[mela.morfologia_2.isna(), 'morfologia_2'] = y_pred\n",
    "mela.morfologia_2.isna().any()\n"
   ]
  },
  {
   "cell_type": "code",
   "execution_count": null,
   "id": "b14bb49d",
   "metadata": {},
   "outputs": [],
   "source": [
    "# impute tumor site with multiclass logistic regression\n",
    "\n",
    "X_train = X.loc[~mela.sede_2.isna()]\n",
    "y_train = mela.loc[~mela.sede_2.isna(), 'sede_2']\n",
    "X_test = X.loc[mela.sede_2.isna() ]\n",
    "\n",
    "clf = LogisticRegression(random_state=0, max_iter= 1000).fit(X_train, y_train)\n",
    "print(clf.score(X_train, y_train)) # better than majority class\n",
    "print(mela.sede_2.value_counts()/(np.sum(mela.sede_2.isna()==False)))\n",
    "y_pred = clf.predict(X_test)\n",
    "\n",
    "mela.loc[mela.sede_2.isna(), 'sede_2'] = y_pred\n",
    "mela.sede_2.isna().any()\n"
   ]
  },
  {
   "cell_type": "code",
   "execution_count": null,
   "id": "326160ff",
   "metadata": {},
   "outputs": [],
   "source": [
    "# impute breslow with multiclass logistic regression (even if continuous var.. it seems to work better)\n",
    "\n",
    "X_train = X.loc[~mela.breslow_new.isna()]\n",
    "y_train = mela.loc[~mela.breslow_new.isna(), 'breslow_new']\n",
    "X_test = X.loc[mela.breslow_new.isna()]\n",
    "\n",
    "clf = LogisticRegression(random_state=0, max_iter= 1000).fit(X_train, y_train)\n",
    "print(clf.score(X_train, y_train)) # better than majority class\n",
    "print(mela.breslow_new.value_counts()/(np.sum(mela.breslow_new.isna()==False)))\n",
    "y_pred = clf.predict(X_test)\n",
    "\n",
    "mela.loc[mela.breslow_new.isna(), 'breslow_new'] = y_pred\n",
    "mela.breslow_new.isna().any()"
   ]
  },
  {
   "cell_type": "code",
   "execution_count": null,
   "id": "ef117f0a",
   "metadata": {},
   "outputs": [],
   "source": [
    "# now it is possible to encode morphology and tumor site \n",
    "\n",
    "mela = mela.join(pd.get_dummies(mela['morfologia_2'], prefix='morfologia', drop_first=False))\n",
    "mela.drop('morfologia_Altro', axis = 1, inplace = True) # scelgo a mano di droppare 'Altro'\n",
    "\n",
    "mela = mela.join(pd.get_dummies(mela['sede_2'], prefix='sede', drop_first=True))"
   ]
  },
  {
   "cell_type": "code",
   "execution_count": null,
   "id": "6b36adc7",
   "metadata": {},
   "outputs": [],
   "source": [
    "# create breslow categorical version with original class names\n",
    "\n",
    "mela['breslow_cat'] = mela['breslow_new'] \n",
    "mela['breslow_cat'].replace(1,'<0.75 mm', inplace = True)\n",
    "mela['breslow_cat'].replace(2,'0.76–1.50 mm', inplace = True)\n",
    "mela['breslow_cat'].replace(3,'1.51–3.99 mm', inplace = True)\n",
    "mela['breslow_cat'].replace(4,'≥4 mm', inplace = True)\n",
    "\n",
    "mela['breslow_cat'].value_counts()"
   ]
  },
  {
   "cell_type": "code",
   "execution_count": null,
   "id": "2a4a5c2a",
   "metadata": {},
   "outputs": [],
   "source": [
    "mela.columns"
   ]
  },
  {
   "cell_type": "code",
   "execution_count": null,
   "id": "54f9f4af",
   "metadata": {},
   "outputs": [],
   "source": [
    "# extract dataset to use for ML models\n",
    "\n",
    "\n",
    "mela_cleaned = mela.loc[:,['sesso_M', 'eta_diagn', \n",
    "                   'breslow_new', 'mitosi',  \n",
    "                   'STADIOT_VER8', 'STADION_VER8', 'STADIOM_VER8', 'ISTOGENETICA', 'sede_2', 'breslow_cat', # not encoded version\n",
    "                   'istogenetica_Desmoplastic melanoma', 'istogenetica_Lentigo maligna', 'istogenetica_Malignant melanoma', 'istogenetica_Melanoma arising from blue naevus', 'istogenetica_Nodular melanoma', 'istogenetica_Spitzoid melanoma', 'istogenetica_Superficial spreading melanoma',  \n",
    "                   'stadioT_pT1', 'stadioT_pT2', 'stadioT_pT3', 'stadioT_pT4', 'stadioT_pTX', \n",
    "                   'stadioN_N0', 'stadioN_N1a', 'stadioN_N1b', 'stadioN_N1c', 'stadioN_N2a', 'stadioN_N2b', 'stadioN_N2c', 'stadioN_N3', 'stadioN_N3c', 'stadioM_M1',\n",
    "                   'ulcerazione_Presente', 'regressione_Presente', 'tipo_crescita_Verticale', 'til_Presente', \n",
    "                    #'morfologia_Acrale', 'morfologia_Cellule Epitelioidi', 'morfologia_Diffusione Superficiale', 'morfologia_Lentigo Maligna', 'morfologia_NAS', 'morfologia_Nodulare',\n",
    "                   'sede_Arti superiori', 'sede_Capo', 'sede_Estremita', 'sede_Tronco',\n",
    "                   'SLNB Positive', 'bls_diametro_massimo_metastasi_m',  'Positive Lymph Nodes',\n",
    "                   'DECESSO_3_anni', 'Sopravvivenza_3_anni',\n",
    "                   'COSTO_COMPLESSIVO_MELA', 'COSTO_SDO_MELA', 'COSTO_SPS_MELA', 'COSTO_F3_MELA', 'COSTO_CINECA_MELA'\n",
    "            ]]"
   ]
  },
  {
   "cell_type": "code",
   "execution_count": null,
   "id": "694626b7",
   "metadata": {},
   "outputs": [],
   "source": [
    "# rename columns in english\n",
    "\n",
    "mela_cleaned.rename(columns={'sesso_M' : 'Male', 'eta_diagn': 'age',\n",
    "                'breslow_new':'Breslow thickness group', 'breslow_cat' : 'Breslow thickness',\n",
    "                'STADIOT_VER8' : 'T stage', 'STADION_VER8' : 'N stage', 'STADIOM_VER8' : 'M stage', 'ISTOGENETICA' : 'Histology', 'sede_2' : 'Tumor site',\n",
    "                'stadioT_pT1' : 'T1 stage', 'stadioT_pT2': 'T2 stage', 'stadioT_pT3': 'T3 stage', 'stadioT_pT4': 'T4 stage', 'stadioT_pTX': 'TX stage', \n",
    "                'stadioN_N0': 'N0 stage', 'stadioN_N1a': 'N1a stage', 'stadioN_N1b': 'N1b stage', 'stadioN_N1c': 'N1c stage', 'stadioN_N2a': 'N2a stage', 'stadioN_N2b': 'N2b stage', 'stadioN_N2c': 'N2c stage', 'stadioN_N3': 'N3 stage', 'stadioN_N3c': 'N3c stage',\n",
    "                'stadioM_M1' : 'M1 stage', \n",
    "                'istogenetica_Desmoplastic melanoma' : 'Histology Desmoplastic melanoma', 'istogenetica_Lentigo maligna' : 'Histology Lentigo maligna', 'istogenetica_Malignant melanoma' : 'Histology Malignant melanoma', 'istogenetica_Melanoma arising from blue naevus' : 'Histology Melanoma arising from blue naevus', 'istogenetica_Nodular melanoma' :  'Histology Nodular melanoma', 'istogenetica_Spitzoid melanoma' : 'Histology Spitzoid melanoma','istogenetica_Superficial spreading melanoma' : 'Histology Superficial spreading melanoma', \n",
    "                'mitosi' : 'Mitotic count', 'ulcerazione_Presente' : 'Ulceration Present', 'regressione_Presente' : 'Tumor regression Present', 'tipo_crescita_Verticale' : 'Growth pattern Vertical', 'til_Presente' : 'TIL Present',\n",
    "                \n",
    "                'sede_Arti superiori': 'Tumor site Upper limb', 'sede_Capo':'Tumor site Head','sede_Estremita':'Tumor site Hands/Feet','sede_Tronco': 'Tumor site Trunk',\n",
    "                'bls_diametro_massimo_metastasi_m' : 'SLNB max diameter'}, inplace = True )\n",
    "\n",
    "\n",
    "\n",
    "                 \n",
    "                     \n",
    "              "
   ]
  },
  {
   "cell_type": "code",
   "execution_count": null,
   "id": "83f8648b",
   "metadata": {},
   "outputs": [],
   "source": [
    "# export complete and cleaned dataset\n",
    "\n",
    "mela_cleaned.to_excel('Melanoma1517_sub_cleaned.xlsx', header = True, index = False)"
   ]
  },
  {
   "cell_type": "code",
   "execution_count": null,
   "id": "1c9b9974",
   "metadata": {},
   "outputs": [],
   "source": [
    "# load data \n",
    "\n",
    "mela_cleaned = pd.read_excel('Melanoma1517_sub_cleaned.xlsx') \n"
   ]
  },
  {
   "cell_type": "code",
   "execution_count": null,
   "id": "2304d598",
   "metadata": {},
   "outputs": [],
   "source": [
    "# extract only numerical (encoded)\n",
    "\n",
    "X = mela_cleaned.loc[:,['Male', 'age', 'Breslow thickness group', 'Mitotic count',\n",
    "       'Histology Desmoplastic melanoma', 'Histology Lentigo maligna',\n",
    "       'Histology Malignant melanoma',\n",
    "       'Histology Melanoma arising from blue naevus',\n",
    "       'Histology Nodular melanoma', 'Histology Spitzoid melanoma',\n",
    "       'Histology Superficial spreading melanoma', 'T1 stage', 'T2 stage',\n",
    "       'T3 stage', 'T4 stage', 'TX stage', 'N0 stage', 'N1a stage', 'N1b stage', 'N1c stage',\n",
    "       'N2a stage', 'N2b stage', 'N2c stage', 'N3 stage', 'N3c stage',\n",
    "       'M1 stage', 'Ulceration Present', 'Tumor regression Present',\n",
    "       'Growth pattern Vertical', 'TIL Present', 'Tumor site Upper limb',\n",
    "       'Tumor site Head', 'Tumor site Hands/Feet', 'Tumor site Trunk',\n",
    "       'SLNB Positive', 'SLNB max diameter', 'Positive Lymph Nodes'  \n",
    "]]"
   ]
  },
  {
   "cell_type": "markdown",
   "id": "60794293",
   "metadata": {},
   "source": [
    "# Correlation plot\n",
    "\n"
   ]
  },
  {
   "cell_type": "code",
   "execution_count": null,
   "id": "77533ce6",
   "metadata": {},
   "outputs": [],
   "source": [
    "f = plt.figure(figsize=(19, 15))\n",
    "plt.matshow(X.corr(), fignum=f.number)\n",
    "plt.xticks(range(X.shape[1]), X.columns, fontsize=14, rotation=90)\n",
    "plt.yticks(range(X.shape[1]), X.columns, fontsize=14)\n",
    "cb = plt.colorbar()\n",
    "cb.ax.tick_params(labelsize=14)\n",
    "plt.title('Correlation Matrix', fontsize=16);"
   ]
  },
  {
   "cell_type": "markdown",
   "id": "fa38768b",
   "metadata": {},
   "source": [
    "# Feature selection and scaling"
   ]
  },
  {
   "cell_type": "code",
   "execution_count": null,
   "id": "ea2b45c6",
   "metadata": {},
   "outputs": [],
   "source": [
    "X_original = X.copy()\n",
    "\n",
    "X_original.columns"
   ]
  },
  {
   "cell_type": "code",
   "execution_count": null,
   "id": "5dd218b7",
   "metadata": {},
   "outputs": [],
   "source": [
    "X = X_original.copy()"
   ]
  },
  {
   "cell_type": "code",
   "execution_count": null,
   "id": "77cce041",
   "metadata": {},
   "outputs": [],
   "source": [
    "# drop correlate (validating...)\n",
    "\n",
    "X.drop(['Breslow thickness group', 'SLNB Positive', 'SLNB max diameter', 'Positive Lymph Nodes'], \n",
    "       #['T1 stage', 'T2 stage', 'T3 stage', 'T4 stage', 'TX stage', 'N0 stage', 'N1a stage', 'N1b stage', 'N1c stage', 'N2a stage', 'N2b stage', 'N2c stage', 'N3 stage', 'N3c stage'], \n",
    "       axis = 1, inplace = True)\n"
   ]
  },
  {
   "cell_type": "code",
   "execution_count": null,
   "id": "78602391",
   "metadata": {},
   "outputs": [],
   "source": [
    "X.columns"
   ]
  },
  {
   "cell_type": "markdown",
   "id": "42b15a7d",
   "metadata": {},
   "source": [
    "# Models"
   ]
  },
  {
   "cell_type": "code",
   "execution_count": null,
   "id": "81464947",
   "metadata": {},
   "outputs": [],
   "source": [
    "from sklearn.model_selection import train_test_split\n",
    "from sklearn.model_selection import cross_validate\n",
    "\n",
    "from sklearn.metrics import roc_curve, roc_auc_score, accuracy_score, balanced_accuracy_score, f1_score, precision_score, recall_score, classification_report\n",
    "\n",
    "from sklearn.linear_model import LogisticRegression\n",
    "from sklearn.tree import DecisionTreeClassifier\n",
    "from sklearn import tree\n",
    "from sklearn.svm import SVC\n",
    "from sklearn.ensemble import RandomForestClassifier\n",
    "from sklearn.neighbors import KNeighborsClassifier\n",
    "from sklearn.ensemble import GradientBoostingClassifier\n"
   ]
  },
  {
   "cell_type": "markdown",
   "id": "a1d86b9b",
   "metadata": {},
   "source": [
    "## Predict Survival/Death in 3 years from diagnosis"
   ]
  },
  {
   "cell_type": "code",
   "execution_count": null,
   "id": "bcad15fb",
   "metadata": {},
   "outputs": [],
   "source": [
    "def print_clf_cv_scores(clf, X_train, y_train, name):\n",
    "\n",
    "    # perform cross validation\n",
    "    cv = 10\n",
    "    \n",
    "    scores = cross_validate(clf, X_train, y_train, cv=cv, scoring = ['accuracy','balanced_accuracy','precision_macro', 'recall_macro','f1_macro'])\n",
    "\n",
    "    print('-------- CV MEAN SCORES (k = '+str(cv)+') ' + name + ' --------')\n",
    "    print(\"%0.3f accuracy with a standard deviation of %0.3f\" % (scores['test_accuracy'].mean(), scores['test_accuracy'].std()))\n",
    "    print(\"%0.3f balanced accuracy with a standard deviation of %0.3f\" % (scores['test_balanced_accuracy'].mean(), scores['test_balanced_accuracy'].std()))  \n",
    "    print(\"%0.3f precision with a standard deviation of %0.3f\" % (scores['test_precision_macro'].mean(), scores['test_precision_macro'].std()))\n",
    "    print(\"%0.3f recall with a standard deviation of %0.3f\" % (scores['test_recall_macro'].mean(), scores['test_recall_macro'].std()))\n",
    "    print(\"%0.3f f1 score with a standard deviation of %0.3f\" % (scores['test_f1_macro'].mean(), scores['test_f1_macro'].std()))\n",
    "\n",
    "\n",
    "def clf_fit_print_test_scores(clf, X_train, y_train, X_test, y_test):\n",
    "\n",
    "    # final fit and testing\n",
    "    clf = clf.fit(X_train, y_train)\n",
    "\n",
    "    # test model \n",
    "    print('-------------------- TRAIN SCORES -------------------')\n",
    "    predictions = clf.predict(X_train)\n",
    "    #print(classification_report(predictions, y_train))\n",
    "    print(\"%0.3f accuracy\" % (accuracy_score(predictions, y_train)))\n",
    "    print(\"%0.3f balanced\" % (balanced_accuracy_score(predictions, y_train)))  \n",
    "    print(\"%0.3f precision\" % (precision_score(predictions, y_train)))\n",
    "    print(\"%0.3f recall\" % (recall_score(predictions, y_train)))\n",
    "    print(\"%0.3f f1 score\" % (f1_score(predictions, y_train)))\n",
    "\n",
    "\n",
    "\n",
    "    print('-------------------- TEST SCORES ---------------------')\n",
    "    predictions = clf.predict(X_test)\n",
    "    #print(classification_report(predictions, y_test))\n",
    "    print(\"%0.3f accuracy\" % (accuracy_score(predictions, y_test)))\n",
    "    print(\"%0.3f balanced\" % (balanced_accuracy_score(predictions, y_test)))  \n",
    "    print(\"%0.3f precision\" % (precision_score(predictions, y_test)))\n",
    "    print(\"%0.3f recall\" % (recall_score(predictions, y_test)))\n",
    "    print(\"%0.3f f1 score\" % (f1_score(predictions, y_test)))\n",
    "\n",
    "    return clf\n",
    " "
   ]
  },
  {
   "cell_type": "code",
   "execution_count": null,
   "id": "42ebbde0",
   "metadata": {},
   "outputs": [],
   "source": [
    "# target/label\n",
    "y = mela_cleaned['DECESSO_3_anni']\n",
    "\n",
    "# split train, test, cv\n",
    "X_train, X_test, y_train, y_test = train_test_split(X, y, test_size=0.10, random_state=42)"
   ]
  },
  {
   "cell_type": "code",
   "execution_count": null,
   "id": "b28a8fcf",
   "metadata": {},
   "outputs": [],
   "source": [
    "mela_cleaned['DECESSO_3_anni'].value_counts()"
   ]
  },
  {
   "cell_type": "code",
   "execution_count": null,
   "id": "6675260f",
   "metadata": {},
   "outputs": [],
   "source": [
    "X_train.shape"
   ]
  },
  {
   "cell_type": "code",
   "execution_count": null,
   "id": "f8c14b7a",
   "metadata": {},
   "outputs": [],
   "source": [
    "X_test.shape"
   ]
  },
  {
   "cell_type": "markdown",
   "id": "d8b28101",
   "metadata": {},
   "source": [
    "### Logistic Regression\n",
    "\n",
    "Good baseline"
   ]
  },
  {
   "cell_type": "code",
   "execution_count": null,
   "id": "456f17a4",
   "metadata": {},
   "outputs": [],
   "source": [
    "from scipy.stats import norm\n",
    "\n",
    "def logit_pvalue(model, x):\n",
    "    \"\"\" Calculate z-scores for scikit-learn LogisticRegression.\n",
    "    parameters:\n",
    "        model: fitted sklearn.linear_model.LogisticRegression with intercept and large C\n",
    "        x:     matrix on which the model was fit\n",
    "    This function uses asymtptics for maximum likelihood estimates.\n",
    "    \"\"\"\n",
    "    p = model.predict_proba(x)\n",
    "    n = len(p)\n",
    "    m = len(model.coef_[0]) + 1\n",
    "    coefs = np.concatenate([model.intercept_, model.coef_[0]])\n",
    "    x_full = np.matrix(np.insert(np.array(x), 0, 1, axis = 1))\n",
    "    ans = np.zeros((m, m))\n",
    "    for i in range(n):\n",
    "        ans = ans + np.dot(np.transpose(x_full[i, :]), x_full[i, :]) * p[i,1] * p[i, 0]\n",
    "    vcov = np.linalg.inv(np.matrix(ans))\n",
    "    se = np.sqrt(np.diag(vcov))\n",
    "    t =  coefs/se  \n",
    "    p = (1 - norm.cdf(abs(t))) * 2\n",
    "    return p"
   ]
  },
  {
   "cell_type": "code",
   "execution_count": null,
   "id": "9428886e",
   "metadata": {},
   "outputs": [],
   "source": [
    "def print_coef_p_val(model, x):\n",
    "    print(\"                                       Name      Coeff     Exp(Coeff)   p-val   signif\")\n",
    "\n",
    "    for n,c,p in zip(['intercept']+list(x.columns), [model.intercept_[0]] + list(model.coef_[0]), logit_pvalue(model, x)):\n",
    "        s = ''\n",
    "        if p<0.0001: s = '***'\n",
    "        elif p<0.001: s = '**'\n",
    "        elif p<0.05: s = '*'\n",
    "        elif p<0.1: s = '.'\n",
    "        print(\"%45s   %3.3f      %3.3f    %10.3E  %s\" %(n,c,np.exp(c),p,s))\n"
   ]
  },
  {
   "cell_type": "code",
   "execution_count": null,
   "id": "74ac5776",
   "metadata": {},
   "outputs": [],
   "source": [
    "max_iter = 1000\n",
    "\n",
    "clf = LogisticRegression(random_state=0, max_iter = max_iter, class_weight = 'balanced', C = 10e30).fit(X_train, y_train)\n",
    "\n",
    "# cross validation and hyperparameter tuning\n",
    "\n",
    "print_clf_cv_scores(clf, X_train, y_train, 'LR')"
   ]
  },
  {
   "cell_type": "code",
   "execution_count": null,
   "id": "f9c2257f",
   "metadata": {},
   "outputs": [],
   "source": [
    "# final fit and evaluate model\n",
    "\n",
    "clf = clf_fit_print_test_scores(clf, X_train, y_train, X_test, y_test)"
   ]
  },
  {
   "cell_type": "code",
   "execution_count": null,
   "id": "be0586c9",
   "metadata": {},
   "outputs": [],
   "source": [
    "print_coef_p_val(clf, X_train)"
   ]
  },
  {
   "cell_type": "markdown",
   "id": "8750929b",
   "metadata": {},
   "source": [
    "### Decision Tree\n",
    "\n",
    "Hyperparameters to tune\n",
    "\n",
    "* max_depth\n",
    "* min_samples_split\n",
    "* min_samples_leaf\n",
    "* max_features"
   ]
  },
  {
   "cell_type": "code",
   "execution_count": null,
   "id": "7ab7de25",
   "metadata": {},
   "outputs": [],
   "source": [
    "max_depth = 7\n",
    "min_samples_split = 4\n",
    "min_samples_leaf = 2\n",
    "max_features = 'log2'\n",
    "\n",
    "clf = DecisionTreeClassifier(random_state=0, max_depth = max_depth, min_samples_split = min_samples_split, min_samples_leaf = min_samples_leaf, max_features = max_features, class_weight = 'balanced').fit(X_train, y_train)\n",
    "\n",
    "# cross validation and hyperparameter tuning\n",
    "\n",
    "print_clf_cv_scores(clf, X_train, y_train, 'DT')"
   ]
  },
  {
   "cell_type": "code",
   "execution_count": null,
   "id": "d1b40a15",
   "metadata": {},
   "outputs": [],
   "source": [
    "# final fit and evaluate model\n",
    "\n",
    "clf = clf_fit_print_test_scores(clf, X_train, y_train, X_test, y_test)"
   ]
  },
  {
   "cell_type": "markdown",
   "id": "313075a6",
   "metadata": {},
   "source": [
    "#### Tree plots"
   ]
  },
  {
   "cell_type": "code",
   "execution_count": null,
   "id": "316003a7",
   "metadata": {},
   "outputs": [],
   "source": [
    "'''clf = clf\n",
    "X_plot = X_train\n",
    "\n",
    "tree.plot_tree(clf)\n",
    "\n",
    "import graphviz \n",
    "\n",
    "dot_data = tree.export_graphviz(clf, out_file=None, \n",
    "                     feature_names=list(X_plot.columns),  \n",
    "                     class_names=['Survived', 'Deceased'],  \n",
    "                     filled=True, rounded=True,  \n",
    "                     special_characters=True)  \n",
    "graph = graphviz.Source(dot_data)  \n",
    "graph '''"
   ]
  },
  {
   "cell_type": "code",
   "execution_count": null,
   "id": "c075cdff",
   "metadata": {},
   "outputs": [],
   "source": [
    "clf = clf\n",
    "X_plot = X_train\n",
    "\n",
    "\n",
    "# get importance\n",
    "importance = clf.feature_importances_\n",
    "df_importance = pd.DataFrame(X_plot.columns,  columns = ['feature'])\n",
    "df_importance['importance'] = importance\n",
    "\n",
    "# sorty by importance\n",
    "df_importance = df_importance.sort_values(by = 'importance', ascending = False)\n",
    "df_importance = df_importance[df_importance.importance > 0]\n",
    "\n",
    "# plot 15 most important features nonn zero\n",
    "plt.bar(df_importance.feature[:15], df_importance.importance[:15])\n",
    "plt.xticks(rotation='vertical')\n",
    "\n",
    "\n",
    "'''for index, value in enumerate(df_importance.importance[:15]):\n",
    "    plt.text(index - 0.5, value+ 0.01,\n",
    "             str(value) )\n",
    "    \n",
    "'''\n",
    "plt.show()\n",
    "\n",
    "df_importance"
   ]
  },
  {
   "cell_type": "markdown",
   "id": "039317d9",
   "metadata": {},
   "source": [
    "### SVM\n",
    "\n",
    "Hyperparameters to tune\n",
    "* kernel\n",
    "* degree (se polynomial kernel)\n",
    "* gamma"
   ]
  },
  {
   "cell_type": "code",
   "execution_count": null,
   "id": "7d5f20da",
   "metadata": {},
   "outputs": [],
   "source": [
    "kernel = 'linear' # 'linear', 'poly', 'rbf', 'sigmoid'\n",
    "degree = 1\n",
    "gamma = 'scale' #, 'auto' 'scale'\n",
    "max_iter =  -1 #per non imporre un limite... provato altri valori ma non sembra migliorare fermandolo prima\n",
    "\n",
    "clf = SVC(kernel = kernel, degree = degree, gamma = gamma, max_iter = max_iter, class_weight = 'balanced', random_state = 0).fit(X_train, y_train)\n",
    "\n",
    "# cross validation and hyperparameter tuning\n",
    "\n",
    "print_clf_cv_scores(clf, X_train, y_train, 'SVM')"
   ]
  },
  {
   "cell_type": "code",
   "execution_count": null,
   "id": "0e07ac10",
   "metadata": {},
   "outputs": [],
   "source": [
    "# final fit and evaluate model\n",
    "\n",
    "clf = clf_fit_print_test_scores(clf, X_train, y_train, X_test, y_test)"
   ]
  },
  {
   "cell_type": "markdown",
   "id": "dfebdd8c",
   "metadata": {},
   "source": [
    "### Gradient Boosting\n",
    "\n",
    "Hyperparameters to tune\n",
    "\n",
    "* n_estimators\n",
    "* min_samples_split\n",
    "* min_samples_leaf\n",
    "* max_depth"
   ]
  },
  {
   "cell_type": "code",
   "execution_count": null,
   "id": "47561a66",
   "metadata": {},
   "outputs": [],
   "source": [
    "n_estimators = 100\n",
    "max_depth = 4\n",
    "min_samples_split = 2\n",
    "min_samples_leaf = 1\n",
    "max_features = 'log2'\n",
    "\n",
    "\n",
    "clf = GradientBoostingClassifier(n_estimators=n_estimators, min_samples_split=min_samples_split, min_samples_leaf=min_samples_leaf, max_depth=max_depth, max_features=max_features, random_state=0).fit(X_train, y_train)\n",
    "\n",
    "# cross validation and hyperparameter tuning\n",
    "\n",
    "print_clf_cv_scores(clf, X_train, y_train, 'GB')"
   ]
  },
  {
   "cell_type": "code",
   "execution_count": null,
   "id": "0487d948",
   "metadata": {},
   "outputs": [],
   "source": [
    "# final fit and evaluate model\n",
    "\n",
    "clf = clf_fit_print_test_scores(clf, X_train, y_train, X_test, y_test)"
   ]
  },
  {
   "cell_type": "code",
   "execution_count": null,
   "id": "5db2f7be",
   "metadata": {},
   "outputs": [],
   "source": [
    "clf = clf\n",
    "X_plot = X_train\n",
    "c = 'cornflowerblue' # 'orange' 'cornflowerblue'\n",
    "\n",
    "# get importance\n",
    "importance = clf.feature_importances_\n",
    "df_importance = pd.DataFrame(X_plot.columns,  columns = ['feature'])\n",
    "df_importance['importance'] = importance\n",
    "\n",
    "# sorty by importance\n",
    "df_importance = df_importance.sort_values(by = 'importance', ascending = False)\n",
    "df_importance = df_importance[df_importance.importance > 0]\n",
    "\n",
    "# plot 15 most important features nonn zero\n",
    "plt.bar(df_importance.feature[:15], df_importance.importance[:15] , color = c)\n",
    "plt.xticks(rotation='vertical')\n",
    "plt.ylabel('Importance')\n",
    "plt.title('Gradient Boosting')\n",
    "plt.show()\n",
    "\n",
    "df_importance"
   ]
  },
  {
   "cell_type": "markdown",
   "id": "ba7ef8b4",
   "metadata": {},
   "source": [
    "### Random Forest\n",
    "\n",
    "Hyperparameters to tune\n",
    "\n",
    "* n_estimators\n",
    "* min_samples_split\n",
    "* min_samples_leaf\n",
    "* max_depth"
   ]
  },
  {
   "cell_type": "code",
   "execution_count": null,
   "id": "d2269a10",
   "metadata": {},
   "outputs": [],
   "source": [
    "n_estimators = 45\n",
    "max_depth = 7\n",
    "min_samples_split = 4\n",
    "min_samples_leaf = 2\n",
    "max_features = 'log2' #None\n",
    "\n",
    "\n",
    "clf = RandomForestClassifier(n_estimators = n_estimators, max_depth=max_depth, min_samples_split=min_samples_split, min_samples_leaf=min_samples_leaf, max_features=max_features, random_state=0).fit(X_train, y_train)\n",
    "\n",
    "# cross validation and hyperparameter tuning\n",
    "\n",
    "print_clf_cv_scores(clf, X_train, y_train, 'RF')"
   ]
  },
  {
   "cell_type": "code",
   "execution_count": null,
   "id": "eb5ebe4c",
   "metadata": {},
   "outputs": [],
   "source": [
    "# final fit and evaluate model\n",
    "\n",
    "clf = clf_fit_print_test_scores(clf, X_train, y_train, X_test, y_test)"
   ]
  },
  {
   "cell_type": "code",
   "execution_count": null,
   "id": "2917dfe7",
   "metadata": {},
   "outputs": [],
   "source": [
    "# save model\n",
    "\n",
    "from joblib import dump, load\n",
    "dump(clf, 'RF_model.joblib')\n",
    "\n",
    "clf = load('RF_model.joblib')\n",
    "\n",
    "clf.predict_proba(X_test)\n",
    "\n",
    "predictions = clf.predict(X_test)"
   ]
  },
  {
   "cell_type": "code",
   "execution_count": null,
   "id": "9dc3a119",
   "metadata": {},
   "outputs": [],
   "source": [
    "print(\"%0.3f accuracy\" % (accuracy_score(predictions, y_test)))\n",
    "print(\"%0.3f balanced\" % (balanced_accuracy_score(predictions, y_test)))  \n",
    "print(\"%0.3f precision\" % (precision_score(predictions, y_test)))\n",
    "print(\"%0.3f recall\" % (recall_score(predictions, y_test)))\n",
    "print(\"%0.3f f1 score\" % (f1_score(predictions, y_test)))"
   ]
  },
  {
   "cell_type": "code",
   "execution_count": null,
   "id": "16a20552",
   "metadata": {},
   "outputs": [],
   "source": [
    "clf.predict_proba(X_test.iloc[0,:].values.reshape(1, -1))"
   ]
  },
  {
   "cell_type": "code",
   "execution_count": null,
   "id": "204d0613",
   "metadata": {},
   "outputs": [],
   "source": [
    "clf.predict(X_test.iloc[0,:].values.reshape(1, -1))"
   ]
  },
  {
   "cell_type": "markdown",
   "id": "a53ed54d",
   "metadata": {},
   "source": [
    "#### Importance plot"
   ]
  },
  {
   "cell_type": "code",
   "execution_count": null,
   "id": "8b87e333",
   "metadata": {},
   "outputs": [],
   "source": [
    "#plt.figure(figsize=(10, 6), dpi=80)\n",
    "\n",
    "\n",
    "clf = clf\n",
    "X_plot = X_train\n",
    "c = 'cornflowerblue' # 'orange' 'cornflowerblue'\n",
    "\n",
    "# get importance\n",
    "importance = clf.feature_importances_\n",
    "df_importance = pd.DataFrame(X_plot.columns,  columns = ['feature'])\n",
    "df_importance['importance'] = importance\n",
    "\n",
    "# sorty by importance\n",
    "df_importance = df_importance.sort_values(by = 'importance', ascending = False)\n",
    "df_importance = df_importance[df_importance.importance > 0]\n",
    "\n",
    "# plot 15 most important features nonn zero\n",
    "plt.bar(df_importance.feature[:20], df_importance.importance[:20], color = c)\n",
    "plt.xticks(rotation='vertical')\n",
    "plt.ylabel('Importance')\n",
    "plt.title('Random Forest')\n",
    "\n",
    "plt.show()\n",
    "\n",
    "df_importance"
   ]
  },
  {
   "cell_type": "markdown",
   "id": "cf25d3da",
   "metadata": {},
   "source": [
    "#### ROC curve and AUC"
   ]
  },
  {
   "cell_type": "code",
   "execution_count": null,
   "id": "d4a0de8e",
   "metadata": {},
   "outputs": [],
   "source": [
    "plt.figure(figsize=(7, 5), dpi=80)\n",
    "\n",
    "y_pred_proba = clf.predict_proba(X_test)[::,1]\n",
    "fpr, tpr, _ = roc_curve(y_test,  y_pred_proba)\n",
    "auc = roc_auc_score(y_test, y_pred_proba)\n",
    "\n",
    "'''y_pred_proba = clf.predict_proba(X_test)[::,0]\n",
    "fpr, tpr, _ = roc_curve(1*(y_test == 0),  y_pred_proba)\n",
    "auc = roc_auc_score(1*(y_test == 0), y_pred_proba)'''\n",
    "\n",
    "plt.plot(fpr,tpr)\n",
    "#plt.legend(loc=4)\n",
    "plt.title(\"3-years survival/mortality prediction ROC curve \\nAUC=\"+str(round(auc, 3)))\n",
    "plt.xlabel(\"FP rate\")\n",
    "plt.ylabel(\"TP rate\")\n",
    "plt.show()"
   ]
  },
  {
   "cell_type": "markdown",
   "id": "29c61929",
   "metadata": {},
   "source": [
    "### kNN\n"
   ]
  },
  {
   "cell_type": "code",
   "execution_count": null,
   "id": "6a3ae0c1",
   "metadata": {},
   "outputs": [],
   "source": [
    "n_neighbors = 7\n",
    "weights = 'uniform' #'uniform', 'distance'\n",
    "\n",
    "clf = KNeighborsClassifier(n_neighbors = n_neighbors, weights = weights).fit(X_train, y_train)\n",
    "\n",
    "# cross validation and hyperparameter tuning\n",
    "print_clf_cv_scores(clf, X_train, y_train, 'KNN')"
   ]
  },
  {
   "cell_type": "code",
   "execution_count": null,
   "id": "c90b8168",
   "metadata": {},
   "outputs": [],
   "source": [
    "# final fit and evaluate model\n",
    "\n",
    "clf = clf_fit_print_test_scores(clf, X_train, y_train, X_test, y_test)"
   ]
  }
 ],
 "metadata": {
  "kernelspec": {
   "display_name": "Python 3",
   "language": "python",
   "name": "python3"
  },
  "language_info": {
   "codemirror_mode": {
    "name": "ipython",
    "version": 3
   },
   "file_extension": ".py",
   "mimetype": "text/x-python",
   "name": "python",
   "nbconvert_exporter": "python",
   "pygments_lexer": "ipython3",
   "version": "3.8.8"
  }
 },
 "nbformat": 4,
 "nbformat_minor": 5
}
